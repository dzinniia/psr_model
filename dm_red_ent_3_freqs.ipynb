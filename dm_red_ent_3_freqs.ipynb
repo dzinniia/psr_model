{
 "cells": [
  {
   "cell_type": "markdown",
   "id": "2c2632d9-6673-46e8-aa68-3bc8f8a622c4",
   "metadata": {},
   "source": [
    "The first step in the process is getting the open MDC1 par and tim files in the tests directory"
   ]
  },
  {
   "cell_type": "code",
   "execution_count": 1,
   "id": "985a4cf0-899a-4377-b525-1fd251463d50",
   "metadata": {},
   "outputs": [
    {
     "name": "stderr",
     "output_type": "stream",
     "text": [
      "/usr/local/lib/python3.10/dist-packages/matplotlib/projections/__init__.py:63: UserWarning: Unable to import Axes3D. This may be due to multiple versions of Matplotlib being installed (e.g. as a system package and as a pip package). As a result, the 3D projection is not available.\n",
      "  warnings.warn(\"Unable to import Axes3D. This may be due to multiple versions of \"\n"
     ]
    }
   ],
   "source": [
    "import glob\n",
    "import os\n",
    "from enterprise.signals import parameter\n",
    "from enterprise.signals import white_signals \n",
    "from enterprise.signals import gp_signals \n",
    "from enterprise.signals import utils         \n",
    "from enterprise.signals import signal_base    \n",
    "from enterprise.pulsar import Pulsar \n",
    "from PTMCMCSampler.PTMCMCSampler import PTSampler as ptmcmc\n",
    "from enterprise_extensions.blocks import white_noise_block, red_noise_block, dm_noise_block\n",
    "import numpy as np\n",
    "import corner"
   ]
  },
  {
   "cell_type": "code",
   "execution_count": 2,
   "id": "a1818d6b-8f85-47b8-aa32-0e3cd13b25de",
   "metadata": {},
   "outputs": [],
   "source": [
    "parfiles_700= sorted(glob.glob('/data/' + 'test_3.par'))\n",
    "timfiles_700 = sorted(glob.glob('/data/'+ 'combined_dm_red.tim'))"
   ]
  },
  {
   "cell_type": "markdown",
   "id": "e5aaea73-5cc6-45bf-9bb7-124bc1b7be80",
   "metadata": {},
   "source": [
    "Создается объект psr и добавляется в список"
   ]
  },
  {
   "cell_type": "code",
   "execution_count": 3,
   "id": "a09d47bf-07ee-45fc-985f-fd069b3756bb",
   "metadata": {},
   "outputs": [
    {
     "name": "stderr",
     "output_type": "stream",
     "text": [
      "WARNING: Could not find pulsar distance for PSR fake_test_3. Setting value to 1 with 20% uncertainty.\n"
     ]
    },
    {
     "name": "stdout",
     "output_type": "stream",
     "text": [
      "<enterprise.pulsar.Tempo2Pulsar object at 0xffff6caec4c0>\n",
      "[<enterprise.pulsar.Tempo2Pulsar object at 0xffff6caec4c0>]\n"
     ]
    }
   ],
   "source": [
    "psrs = []\n",
    "for p, t in zip(parfiles_700, timfiles_700):\n",
    "    psr = Pulsar(p, t)\n",
    "    print(psr)\n",
    "    psrs.append(psr)\n",
    "    print(psrs)"
   ]
  },
  {
   "cell_type": "code",
   "execution_count": 4,
   "id": "4eee8b6c-6f4e-4791-9947-fdcaa331525d",
   "metadata": {},
   "outputs": [],
   "source": [
    "# Uniform prior on EFAC\n",
    "efac = parameter.Uniform(0.1,5.0)\n",
    "\n",
    "# # red noise parameters\n",
    "# # Uniform in log10 Amplitude and in spectral index\n",
    "# log10_A = parameter.Uniform(-18,-12) #Равномерное априорное распределение для амплитуды красного шума\n",
    "# gamma = parameter.Uniform(0,7)#Равномерное распределение для спектрального индекса красного шума\n",
    "\n",
    "# ##### Set up signals #####\n",
    "\n",
    "# # white noise\n",
    "# ef = white_signals.MeasurementNoise(efac=efac) #Создаётcя компонента белого шума\n",
    "\n",
    "# pl_dm = utils.powerlaw(log10_A=log10_A, gamma=gamma)\n",
    "# dm = gp_signals.FourierBasisGP(spectrum=pl_dm, components=30)\n",
    "\n",
    "# # timing model\n",
    "# tm = gp_signals.TimingModel() #Добавляет временную модель пульсара (учёт вращения, положения и других параметров из par файла).\n",
    "\n",
    "\n",
    "# # full model is sum of components\n",
    "# model = ef + dm + tm\n",
    "\n",
    "# s = gp_signals.TimingModel()\n",
    "\n",
    "# s += dm_noise_block(components=30)\n",
    "# s += white_noise_block(vary=False, select=None) # select=None\n",
    "\n",
    "\n",
    "\n",
    "# model = s\n",
    "tmin = [p.toas.min() for p in psrs]\n",
    "tmax = [p.toas.max() for p in psrs]\n",
    "Tspan = np.max(tmax) - np.min(tmin)\n",
    "\n",
    "log10_A_dm = parameter.Uniform(-20, -11)\n",
    "gamma_dm = parameter.Uniform(0, 7)\n",
    "dm_prior = utils.powerlaw(log10_A=log10_A_dm, gamma=gamma_dm)\n",
    "dm_basis = utils.createfourierdesignmatrix_dm(nmodes=30, Tspan=Tspan)\n",
    "dmgp = gp_signals.BasisGP(dm_prior, dm_basis, name='dm_gp', coefficients=False)\n",
    "\n",
    "log10_A = parameter.Uniform(-20, -11)\n",
    "gamma = parameter.Uniform(0, 7), \n",
    "pl = utils.powerlaw(log10_A=log10_A, gamma=gamma)\n",
    "rn = gp_signals.FourierBasisGP(spectrum=pl, components=30)\n",
    "\n",
    "\n",
    "ef = white_signals.MeasurementNoise(efac=efac)\n",
    "tm = gp_signals.TimingModel()\n",
    "model = ef + dmgp + tm + rn\n",
    "\n",
    "# s = gp_signals.TimingModel()\n",
    "# s += red_noise_block(components=30)\n",
    "# s += dm_noise_block(components=100)\n",
    "# s += white_signals.MeasurementNoise(efac=efac)\n",
    "# model = s\n",
    "\n",
    "# initialize PTA\n",
    "pta_700 = signal_base.PTA([model(psrs[0])]) #cоздаёт объект PTA для первого пульсара из списка psrs"
   ]
  },
  {
   "cell_type": "code",
   "execution_count": 5,
   "id": "71fef529-4990-4c48-a16e-9936b2d1e85f",
   "metadata": {},
   "outputs": [
    {
     "name": "stdout",
     "output_type": "stream",
     "text": [
      "[fake_test_3_dm_gp_gamma:Uniform(pmin=0, pmax=7), fake_test_3_dm_gp_log10_A:Uniform(pmin=-20, pmax=-11), fake_test_3_efac:Uniform(pmin=0.1, pmax=5.0), fake_test_3_red_noise_gamma:Uniform(pmin=0, pmax=7), fake_test_3_red_noise_log10_A:Uniform(pmin=-20, pmax=-11)]\n"
     ]
    }
   ],
   "source": [
    "print(pta_700.params)"
   ]
  },
  {
   "cell_type": "markdown",
   "id": "c3cd09d9-df7d-45f3-8f7f-0a53df5408b0",
   "metadata": {},
   "source": [
    "создает словарь со случайными начальными значениями параметров для MCMC-сэмплера"
   ]
  },
  {
   "cell_type": "code",
   "execution_count": 6,
   "id": "9b5171c4-b1e2-4ed8-a67e-dc95f0a60755",
   "metadata": {},
   "outputs": [
    {
     "name": "stdout",
     "output_type": "stream",
     "text": [
      "{'fake_test_3_dm_gp_gamma': 2.8921892108854417, 'fake_test_3_dm_gp_log10_A': -11.924057082342129, 'fake_test_3_efac': 2.0084711570704123, 'fake_test_3_red_noise_gamma': 2.582029858541515, 'fake_test_3_red_noise_log10_A': -15.21414425984167}\n"
     ]
    }
   ],
   "source": [
    "xs_700 = {par.name: par.sample() for par in pta_700.params} #Перебирает все параметры модели.\n",
    "\n",
    "#par.name: Получает имя параметра\n",
    "#par.sample(): Генерирует случайное значение параметра согласно его априорному распределению \n",
    "print(xs_700)\n"
   ]
  },
  {
   "cell_type": "code",
   "execution_count": 7,
   "id": "6bb89d7d-a9c9-4715-90a4-f18ea5d0f0c4",
   "metadata": {},
   "outputs": [],
   "source": [
    "# # dimension of parameter space\n",
    "ndim = len(xs_700)\n",
    "\n",
    "# initial jump covariance matrix\n",
    "cov = np.diag(np.ones(ndim) * 0.01**2) #Создаёт диагональную матрицу размерности ndim x ndim с элементами 0.0001задаёт начальный размер \"шага\" сэмплера по каждому параметру \n",
    "\n",
    "# # set up jump groups by red noise groups\n",
    "ndim = len(xs_700)\n",
    "groups  = [range(0, ndim)]#создаёт группу из всех параметров\n",
    "# groups.extend([[0,1]])#добавляет отдельную группу для параметров с индексами 1 и 2, Ускоряет сходимость, обновляя коррелированные параметры (например, амплитуду и спектральный индекс) совместно.\n",
    "# intialize sampler\n",
    "sampler = ptmcmc(ndim, pta_700.get_lnlikelihood, pta_700.get_lnprior, cov, groups=groups, outDir='/data')"
   ]
  },
  {
   "cell_type": "code",
   "execution_count": null,
   "id": "565fd2ee-f8a3-434b-bcc3-239b90f073d8",
   "metadata": {},
   "outputs": [
    {
     "name": "stderr",
     "output_type": "stream",
     "text": [
      "/tmp/ipykernel_57830/3408449239.py:3: FutureWarning: arrays to stack must be passed as a \"sequence\" type such as list or tuple. Support for non-sequence iterables such as generators is deprecated as of NumPy 1.16 and will raise an error in the future.\n",
      "  x0 = np.hstack(p.sample() for p in pta_700.params)\n"
     ]
    },
    {
     "name": "stdout",
     "output_type": "stream",
     "text": [
      "Finished 1.00 percent in 62.194629 s Acceptance rate = 0.636"
     ]
    },
    {
     "name": "stderr",
     "output_type": "stream",
     "text": [
      "/usr/local/lib/python3.10/dist-packages/enterprise/signals/parameter.py:70: RuntimeWarning: divide by zero encountered in log\n",
      "  logpdf = np.log(self.prior(value, **kwargs))\n"
     ]
    },
    {
     "name": "stdout",
     "output_type": "stream",
     "text": [
      "Adding DE jump with weight 5084.354042 s Acceptance rate = 0.1711\n",
      "Finished 14.00 percent in 19798.047251 s Acceptance rate = 0.260643"
     ]
    }
   ],
   "source": [
    "# sampler for N steps\n",
    "N = 100000 #общее количество итераций MCMC\n",
    "x0 = np.hstack(p.sample() for p in pta_700.params) \n",
    "sampler.sample(x0, N, SCAMweight=30, AMweight=15, DEweight=50)"
   ]
  },
  {
   "cell_type": "code",
   "execution_count": null,
   "id": "94cb29b8-9f22-47c2-bcc0-3a323b188ed3",
   "metadata": {},
   "outputs": [],
   "source": [
    "chain = np.loadtxt('/data/chain_1.txt') #загружаются данные цепочки MCMC из файла\n",
    "pars = sorted(xs_700.keys())\n",
    "burn = int(0.25 * chain.shape[0])#первые 25% шагов цепочки отбрасываются "
   ]
  },
  {
   "cell_type": "code",
   "execution_count": null,
   "id": "55ec17ff-31b7-4a06-bbfc-08a01067333e",
   "metadata": {},
   "outputs": [],
   "source": [
    "truths = [3, np.log10(5e-12)-1.6, 1.0, 2.3, np.log10(1e-12)]#задаются эталонные значения параметров для сравнения с результатами MCMC.\n",
    "corner.corner(chain[burn:,:-4], 30, truths=truths, labels=pars);"
   ]
  },
  {
   "cell_type": "code",
   "execution_count": null,
   "id": "1d833203-0c13-4eca-b3c7-1cb4696756e3",
   "metadata": {},
   "outputs": [],
   "source": []
  }
 ],
 "metadata": {
  "kernelspec": {
   "display_name": "Python 3 (ipykernel)",
   "language": "python",
   "name": "python3"
  },
  "language_info": {
   "codemirror_mode": {
    "name": "ipython",
    "version": 3
   },
   "file_extension": ".py",
   "mimetype": "text/x-python",
   "name": "python",
   "nbconvert_exporter": "python",
   "pygments_lexer": "ipython3",
   "version": "3.10.12"
  }
 },
 "nbformat": 4,
 "nbformat_minor": 5
}
