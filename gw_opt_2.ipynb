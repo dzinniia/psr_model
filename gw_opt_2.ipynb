{
 "cells": [
  {
   "cell_type": "code",
   "execution_count": 1,
   "id": "eb0844f1-6a71-457d-b41d-32bd8e4c6a2a",
   "metadata": {},
   "outputs": [
    {
     "name": "stderr",
     "output_type": "stream",
     "text": [
      "/usr/local/lib/python3.10/dist-packages/matplotlib/projections/__init__.py:63: UserWarning: Unable to import Axes3D. This may be due to multiple versions of Matplotlib being installed (e.g. as a system package and as a pip package). As a result, the 3D projection is not available.\n",
      "  warnings.warn(\"Unable to import Axes3D. This may be due to multiple versions of \"\n"
     ]
    }
   ],
   "source": [
    "import numpy as np\n",
    "import matplotlib.pyplot as plt\n",
    "import libstempo as T\n",
    "import libstempo.plot as LP, libstempo.toasim as LT\n",
    "import glob\n",
    "import math\n",
    "import json\n",
    "from enterprise.signals import gp_signals\n",
    "from enterprise_extensions import model_utils, blocks\n",
    "import dynesty\n",
    "from enterprise.signals import signal_base\n",
    "from enterprise.pulsar import Pulsar\n",
    "from enterprise_extensions.frequentist import optimal_statistic as opt_stat\n",
    "import enterprise.signals.parameter as parameter\n",
    "from enterprise.signals import white_signals"
   ]
  },
  {
   "cell_type": "code",
   "execution_count": 2,
   "id": "b7deb612-62c8-41f4-b779-fdc9cc86f312",
   "metadata": {},
   "outputs": [],
   "source": [
    "parfiles = sorted(glob.glob('/data/files/*.par'))\n",
    "Npsr = len(parfiles)"
   ]
  },
  {
   "cell_type": "code",
   "execution_count": 3,
   "id": "828b81a9-0098-4c24-a98d-7f2e8231f23c",
   "metadata": {},
   "outputs": [
    {
     "name": "stdout",
     "output_type": "stream",
     "text": [
      "[tempo2Util.C:396] Warning: [TIM1] Please place MODE flags in the parameter file \n",
      "[tempo2Util.C:401] Warning: [DUP1] duplicated warnings have been suppressed.\n",
      "\n",
      "\n",
      "Results for PSR J1730-2304\n",
      "\n",
      "\n",
      "RMS pre-fit residual = 0.000 (us), RMS post-fit residual = 0.000 (us)\n",
      "Fit Chisq = 0\tChisqr/nfree = 0.00/0 = nan\tpre/post = 0\n",
      "Number of fit parameters: 0\n",
      "Number of points in fit = 0\n",
      "Offset: 0 1 offset_e*sqrt(n) = 0 n = 0\n",
      "\n",
      "\n",
      "PARAMETER       Pre-fit                   Post-fit                  Uncertainty   Difference   Fit\n",
      "---------------------------------------------------------------------------------------------------\n",
      "RAJ (rad)       4.58299999999785          4.58299999999785          5.4716e-11    0             Y\n",
      "RAJ (hms)       17:30:20.7738020           17:30:20.7738020         7.524e-07     0            \n",
      "DECJ (rad)      0.403203673196531         0.403203673196531         6.7838e-11    0             Y\n",
      "DECJ (dms)      +23:06:06.72753           +23:06:06.72753           1.3993e-05    0            \n",
      "F0 (s^-1)       205.530696088272          205.530696088272          7.9045e-14    0             Y\n",
      "F1 (s^-2)       -4.30607279479652e-16     -4.30607279479652e-16     4.871e-22     0             Y\n",
      "PEPOCH (MJD)    53000                     53000                     0             0             N\n",
      "POSEPOCH (MJD)  53000                     53000                     0             0             N\n",
      "DMEPOCH (MJD)   53000                     53000                     0             0             N\n",
      "PMRA (mas/yr)   -4.06543519073483         -4.06543519073483         0.001812      0             Y\n",
      "PMDEC (mas/yr)  -5.03984083366485         -5.03984083366485         0.0024196     0             Y\n",
      "PX (mas)        3.41622888457453          3.41622888457453          0.042724      0             Y\n",
      "TZRMJD          52999.9999999984          52999.9999999984          0             1.4552e-11    N\n",
      "TZRFRQ (MHz)    1440                      1440                      0             0             N\n",
      "TZRSITE         AXIS                     \n",
      "TRES            0                         1.55759482275735e-19      0             1.5576e-19    N\n",
      "EPHVER          TEMPO2                    TEMPO2                    \n",
      "NE_SW (cm^-3)   4                         4                         0             0             N\n",
      "DM_SERIES       TAYLOR                   \n",
      "---------------------------------------------------------------------------------------------------\n",
      "[textOutput.C:308] Notice: Parameter uncertainties NOT multiplied by sqrt(red. chisq)\n",
      "\n",
      "\n",
      "Derived parameters:\n",
      "\n",
      "P0 (s)      = 0.00486545328280559       1.8712e-18   \n",
      "P1          = 1.01936092341382e-20      1.1531e-26   \n",
      "tau_c (Myr) = 7567.6\n",
      "bs (G)      = 2.2536e+08\n",
      "\n",
      "Total proper motion = 6.4752 +/- 0.0022002 mas/yr\n",
      "Total time span = 3640.000 days = 9.966 years\n",
      "\n",
      "Tempo2 usage\n",
      "Units:                 TCB (tempo2)\n",
      "Time ephemeris:        IF99 (tempo2)\n",
      "Troposphere corr.?     Yes (tempo2)\n",
      "Dilate freq?           Yes (tempo2)\n",
      "Electron density (1AU) 4\n",
      "Solar system ephem     DE414\n",
      "Time scale             TT(TAI)\n",
      "Binary model           NONE\n",
      "In here writing a new parameter file: /data/files/J1730-2304.par\n",
      "Notice: There were 2 warnings. Summaries are shown below, check logs for full details.\n",
      "Warning #1: [TIM1] Please place MODE flags in the parameter file \n",
      "Warning #2: [DUP1] duplicated warnings have been suppressed.\n",
      "\n",
      "\n",
      "Results for PSR J1911+1347\n",
      "\n",
      "\n",
      "RMS pre-fit residual = 0.000 (us), RMS post-fit residual = 0.000 (us)\n",
      "Fit Chisq = 0\tChisqr/nfree = 0.00/0 = nan\tpre/post = 0\n",
      "Number of fit parameters: 0\n",
      "Number of points in fit = 0\n",
      "Offset: 0 1 offset_e*sqrt(n) = 0 n = 0\n",
      "\n",
      "\n",
      "PARAMETER       Pre-fit                   Post-fit                  Uncertainty   Difference   Fit\n",
      "---------------------------------------------------------------------------------------------------\n",
      "RAJ (rad)       5.02600000000288          5.02600000000288          6.6409e-11    0             Y\n",
      "RAJ (hms)       19:11:52.4610799           19:11:52.4610799         9.1318e-07    0            \n",
      "DECJ (rad)      -0.240796326788294        -0.240796326788294        3.2583e-10    0             Y\n",
      "DECJ (dms)      -13:47:47.80769           -13:47:47.80769           6.7207e-05    0            \n",
      "F0 (s^-1)       205.53069608828           205.53069608828           7.9052e-14    0             Y\n",
      "F1 (s^-2)       -4.30601555569373e-16     -4.30601555569373e-16     4.8707e-22    0             Y\n",
      "PEPOCH (MJD)    53000                     53000                     0             0             N\n",
      "POSEPOCH (MJD)  53000                     53000                     0             0             N\n",
      "DMEPOCH (MJD)   53000                     53000                     0             0             N\n",
      "PMRA (mas/yr)   -4.0605938618336          -4.0605938618336          0.002334      0             Y\n",
      "PMDEC (mas/yr)  -5.04949699618118         -5.04949699618118         0.011729      0             Y\n",
      "PX (mas)        4.08676823254587          4.08676823254587          0.020916      0             Y\n",
      "TZRMJD          52999.9999999994          52999.9999999994          0             4.3656e-11    N\n",
      "TZRFRQ (MHz)    1440                      1440                      0             0             N\n",
      "TZRSITE         AXIS                     \n",
      "TRES            0                         1.40990427036338e-19      0             1.4099e-19    N\n",
      "EPHVER          TEMPO2                    TEMPO2                    \n",
      "NE_SW (cm^-3)   4                         4                         0             0             N\n",
      "DM_SERIES       TAYLOR                   \n",
      "---------------------------------------------------------------------------------------------------\n",
      "[textOutput.C:308] Notice: Parameter uncertainties NOT multiplied by sqrt(red. chisq)\n",
      "\n",
      "\n",
      "Derived parameters:\n",
      "\n",
      "P0 (s)      = 0.0048654532828054        1.8714e-18   \n",
      "P1          = 1.01934737340949e-20      1.153e-26    \n",
      "tau_c (Myr) = 7567.7\n",
      "bs (G)      = 2.2536e+08\n",
      "\n",
      "Total proper motion = 6.4796 +/- 0.0092565 mas/yr\n",
      "Total time span = 3640.000 days = 9.966 years\n",
      "\n",
      "Tempo2 usage\n",
      "Units:                 TCB (tempo2)\n",
      "Time ephemeris:        IF99 (tempo2)\n",
      "Troposphere corr.?     Yes (tempo2)\n",
      "Dilate freq?           Yes (tempo2)\n",
      "Electron density (1AU) 4\n",
      "Solar system ephem     DE414\n",
      "Time scale             TT(TAI)\n",
      "Binary model           NONE\n",
      "In here writing a new parameter file: /data/files/J1911+1347.par\n",
      "\n",
      "\n",
      "Results for PSR J2010-1323\n",
      "\n",
      "\n",
      "RMS pre-fit residual = 0.000 (us), RMS post-fit residual = 0.000 (us)\n",
      "Fit Chisq = 0\tChisqr/nfree = 0.00/0 = nan\tpre/post = 0\n",
      "Number of fit parameters: 0\n",
      "Number of points in fit = 0\n",
      "Offset: 0 1 offset_e*sqrt(n) = 0 n = 0\n",
      "\n",
      "\n",
      "PARAMETER       Pre-fit                   Post-fit                  Uncertainty   Difference   Fit\n",
      "---------------------------------------------------------------------------------------------------\n",
      "RAJ (rad)       5.28299999999801          5.28299999999801          5.5831e-11    0             Y\n",
      "RAJ (hms)       20:10:46.4647602           20:10:46.4647602         7.6773e-07    0            \n",
      "DECJ (rad)      0.234203673224453         0.234203673224453         8.8755e-11    0             Y\n",
      "DECJ (dms)      +13:25:07.97528           +13:25:07.97528           1.8307e-05    0            \n",
      "F0 (s^-1)       205.530696088258          205.530696088258          7.9039e-14    0             Y\n",
      "F1 (s^-2)       -4.30589364146472e-16     -4.30589364146472e-16     4.8701e-22    0             Y\n",
      "PEPOCH (MJD)    53000                     53000                     0             0             N\n",
      "POSEPOCH (MJD)  53000                     53000                     0             0             N\n",
      "DMEPOCH (MJD)   53000                     53000                     0             0             N\n",
      "PMRA (mas/yr)   -4.04704750220084         -4.04704750220084         0.0019423     0             Y\n",
      "PMDEC (mas/yr)  -5.00426920195422         -5.00426920195422         0.0032085     0             Y\n",
      "PX (mas)        4.25181188046875          4.25181188046875          0.028924      0             Y\n",
      "TZRMJD          53000.0000000003          53000.0000000003          0             -1.4552e-11   N\n",
      "TZRFRQ (MHz)    1440                      1440                      0             0             N\n",
      "TZRSITE         AXIS                     \n",
      "TRES            0        "
     ]
    }
   ],
   "source": [
    "psrs = []\n",
    "Amp = 1e-15\n",
    "gamma = 13./3.\n",
    "\n",
    "for ii in range(0,Npsr):\n",
    "\n",
    "    # years of observations\n",
    "    psr = LT.fakepulsar(parfile=parfiles[ii], obstimes=np.arange(53000,53000+10*365.25,28.), toaerr=0.1)\n",
    "\n",
    "    # We now remove the computed residuals from the TOAs, obtaining (in effect) a perfect realization of the deterministic timing model. The pulsar parameters will have changed somewhat, so `make_ideal` calls `fit()` on the pulsar object.\n",
    "    LT.make_ideal(psr)\n",
    "\n",
    "    #Generate white noise\n",
    "    LT.add_efac(psr,efac=1.0)\n",
    "\n",
    "    # add to list\n",
    "    psrs.append(psr)\n",
    "\n",
    "\n",
    "LT.createGWB(psrs, Amp=Amp, gam=gamma)\n",
    "\n",
    "for Psr in psrs:\n",
    "\n",
    "    Psr.savepar(\"/data/files/\" + Psr.name + '.par')\n",
    "    Psr.savetim(\"/data/files/\" + Psr.name + '.tim')\n",
    "    T.purgetim(\"/data/files/\" + Psr.name + '.tim')\n"
   ]
  },
  {
   "cell_type": "code",
   "execution_count": 4,
   "id": "a31241ec-4397-45b7-be44-a7d4fc378ecd",
   "metadata": {},
   "outputs": [
    {
     "name": "stderr",
     "output_type": "stream",
     "text": [
      "WARNING: Could not find pulsar distance for PSR J1911+1347. Setting value to 1 with 20% uncertainty.\n"
     ]
    },
    {
     "name": "stdout",
     "output_type": "stream",
     "text": [
      "                 1.54731910978365e-19      0             1.5473e-19    N\n",
      "EPHVER          TEMPO2                    TEMPO2                    \n",
      "NE_SW (cm^-3)   4                         4                         0             0             N\n",
      "DM_SERIES       TAYLOR                   \n",
      "---------------------------------------------------------------------------------------------------\n",
      "[textOutput.C:308] Notice: Parameter uncertainties NOT multiplied by sqrt(red. chisq)\n",
      "\n",
      "\n",
      "Derived parameters:\n",
      "\n",
      "P0 (s)      = 0.00486545328280592       1.8711e-18   \n",
      "P1          = 1.01931851309847e-20      1.1529e-26   \n",
      "tau_c (Myr) = 7567.9\n",
      "bs (G)      = 2.2535e+08\n",
      "\n",
      "Total proper motion = 6.4359 +/- 0.0027777 mas/yr\n",
      "Total time span = 3640.000 days = 9.966 years\n",
      "\n",
      "Tempo2 usage\n",
      "Units:                 TCB (tempo2)\n",
      "Time ephemeris:        IF99 (tempo2)\n",
      "Troposphere corr.?     Yes (tempo2)\n",
      "Dilate freq?           Yes (tempo2)\n",
      "Electron density (1AU) 4\n",
      "Solar system ephem     DE414\n",
      "Time scale             TT(TAI)\n",
      "Binary model           NONE\n",
      "In here writing a new parameter file: /data/files/J2010-1323.par\n"
     ]
    },
    {
     "name": "stderr",
     "output_type": "stream",
     "text": [
      "WARNING: Could not find pulsar distance for PSR J2010-1323. Setting value to 1 with 20% uncertainty.\n"
     ]
    }
   ],
   "source": [
    "parfiles = sorted(glob.glob('/data/files/*.par'))\n",
    "timfiles = sorted(glob.glob('/data/files/*.tim'))\n",
    "\n",
    "psrs = []\n",
    "ephemeris = None\n",
    "for p, t in zip(parfiles, timfiles):\n",
    "    psr = Pulsar(p, t, ephem=ephemeris)\n",
    "    psrs.append(psr)"
   ]
  },
  {
   "cell_type": "code",
   "execution_count": 5,
   "id": "60dbe2e7-c6a1-41f2-8ff7-c692f4c7bd58",
   "metadata": {},
   "outputs": [],
   "source": [
    "# find the maximum time span to set GW frequency sampling\n",
    "Tspan = model_utils.get_tspan(psrs)\n",
    "\n",
    "# Here we build the signal model\n",
    "# First we add the timing model\n",
    "s = gp_signals.TimingModel()\n",
    "\n",
    "# Then we add the white noise\n",
    "# We use different white noise parameters for every backend/receiver combination\n",
    "# The white noise parameters are held constant\n",
    "efac = parameter.Constant(1.0)\n",
    "s += white_signals.MeasurementNoise(efac=efac)\n",
    "\n",
    "# Finally, we add the common red noise, which is modeled as a Fourier series with 30 frequency components\n",
    "# The common red noise has a power-law PSD with spectral index of 4.33\n",
    "s += blocks.common_red_noise_block(psd='powerlaw', prior='log-uniform', Tspan=Tspan, components=30, name='gw_crn', orf = None)\n",
    "\n",
    "# We set up the PTA object using the signal we defined above and the pulsars\n",
    "pta = signal_base.PTA([s(p) for p in psrs])"
   ]
  },
  {
   "cell_type": "code",
   "execution_count": 6,
   "id": "cc8c8795-37a3-4443-9a7e-32e3d90f435e",
   "metadata": {},
   "outputs": [
    {
     "data": {
      "text/plain": [
       "[gw_crn_gamma:Uniform(pmin=0, pmax=7),\n",
       " gw_crn_log10_A:Uniform(pmin=-18, pmax=-11)]"
      ]
     },
     "execution_count": 6,
     "metadata": {},
     "output_type": "execute_result"
    }
   ],
   "source": [
    "pta.params"
   ]
  },
  {
   "cell_type": "code",
   "execution_count": 12,
   "id": "2df0446a-be8e-4aa1-981a-42c1aa87a85a",
   "metadata": {},
   "outputs": [
    {
     "name": "stderr",
     "output_type": "stream",
     "text": [
      "3431it [00:27, 125.50it/s, +500 | bound: 22 | nc: 1 | ncall: 54586 | eff(%):  7.268 | loglstar:   -inf < 4680.646 <    inf | logz: 4676.135 +/-  0.083 | dlogz:  0.000 >  0.100]\n"
     ]
    }
   ],
   "source": [
    "#%% Nested Sampling with dynesty\n",
    "\n",
    "def TransformPrior(theta, verbose=False):\n",
    "\tif verbose:\n",
    "\t\tprint('\\n', len(theta), '\\n')\n",
    "\tph_pars = np.zeros(len(theta))\n",
    "\tidx_offset = 0\n",
    "\tfor i, nm in enumerate(pta.params):\n",
    "\t\tif nm.size and nm.size>1:\n",
    "\t\t\tfor j in range(nm.size):\n",
    "\t\t\t\tph_pars[i+idx_offset] = (pta.params[i].prior.func_kwargs['pmax'] - pta.params[i].prior.func_kwargs['pmin']) * theta[i+idx_offset] + pta.params[i].prior.func_kwargs['pmin']\n",
    "\t\t\t\tidx_offset+=1\n",
    "\t\telse:\n",
    "\t\t\tph_pars[i+idx_offset] = ( pta.params[i].prior.func_kwargs['pmax'] - pta.params[i].prior.func_kwargs['pmin'])*theta[i+idx_offset] + pta.params[i].prior.func_kwargs['pmin']\n",
    "\t\tif verbose:\n",
    "\t\t\tprint(nm, pta.params[i].prior.func_args, pta.params[i].prior.func_kwargs['pmin'], pta.params[i].prior.func_kwargs['pmax'])\n",
    "\treturn ph_pars\n",
    "\n",
    "def log_l(x):\n",
    "\treturn pta.get_lnlikelihood(x)\n",
    "\n",
    "ndim = len(pta.params)\n",
    "# initialize sampler with pool with pre-defined queue\n",
    "\n",
    "Npar = len(pta.params)\n",
    "\n",
    "sampler = dynesty.NestedSampler(log_l, TransformPrior, ndim=Npar, nlive=500, bound='multi', sample='rwalk')\n",
    "\n",
    "sampler.run_nested(dlogz=0.1)"
   ]
  },
  {
   "cell_type": "code",
   "execution_count": 13,
   "id": "47965f9c-be10-43fd-b422-8a769296cc6d",
   "metadata": {},
   "outputs": [
    {
     "data": {
      "image/png": "[encoded data removed]",
      "text/plain": [
       "<Figure size 550x550 with 4 Axes>"
      ]
     },
     "metadata": {},
     "output_type": "display_data"
    }
   ],
   "source": [
    "from dynesty import plotting as dyplot\n",
    "results = sampler.results\n",
    "fig, axes = dyplot.cornerplot(results,\n",
    "                             show_titles=True, truths = [gamma, np.log10(Amp)], labels=pta.param_names, color='blue',\n",
    "                             quantiles=None)"
   ]
  },
  {
   "cell_type": "code",
   "execution_count": 14,
   "id": "d93a9c97-cab3-4569-8b51-639a182e345e",
   "metadata": {},
   "outputs": [],
   "source": [
    "#correlation curve assuming the injected parameters\n",
    "ml_params = {\"gw_crn_gamma\": gamma, \"gw_crn_log10_A\": np.log10(Amp)}\n",
    "ostat = opt_stat.OptimalStatistic(psrs, pta=pta, orf='hd')\n",
    "xi, rho, sig, OS, OS_sig = ostat.compute_os(params=ml_params)"
   ]
  },
  {
   "cell_type": "code",
   "execution_count": 15,
   "id": "bafe3040-670c-47f7-8a62-215328ce8002",
   "metadata": {},
   "outputs": [],
   "source": [
    "# Plot the cross-correlations and compare to the Hellings-Downs curve\n",
    "# Before plotting, we need to bin the cross-correlations\n",
    "\n",
    "def weightedavg(rho, sig):\n",
    "    weights, avg = 0., 0.\n",
    "    for r,s in zip(rho,sig):\n",
    "        weights += 1./(s*s)\n",
    "        avg += r/(s*s)\n",
    "\n",
    "    return avg/weights, np.sqrt(1./weights)\n",
    "\n",
    "def bin_crosscorr(zeta, xi, rho, sig):\n",
    "\n",
    "    rho_avg, sig_avg = np.zeros(len(zeta)), np.zeros(len(zeta))\n",
    "\n",
    "    for i,z in enumerate(zeta[:-1]):\n",
    "        myrhos, mysigs = [], []\n",
    "        for x,r,s in zip(xi,rho,sig):\n",
    "            if x >= z and x < (z+10.):\n",
    "                myrhos.append(r)\n",
    "                mysigs.append(s)\n",
    "        rho_avg[i], sig_avg[i] = weightedavg(myrhos, mysigs)\n",
    "\n",
    "    return rho_avg, sig_avg\n",
    "\n",
    "# sort the cross-correlations by xi\n",
    "idx = np.argsort(xi)\n",
    "\n",
    "xi_sorted = xi[idx]\n",
    "rho_sorted = rho[idx]\n",
    "sig_sorted = sig[idx]\n",
    "\n",
    "# bin the cross-correlations so that there are the same number of pairs per bin\n",
    "npairs = 40\n",
    "\n",
    "xi_mean = []\n",
    "xi_err = []\n",
    "\n",
    "rho_avg = []\n",
    "sig_avg = []\n",
    "\n",
    "i = 0\n",
    "while i < len(xi_sorted):\n",
    "\n",
    "    xi_mean.append(np.mean(xi_sorted[i:npairs+i]))\n",
    "    xi_err.append(np.std(xi_sorted[i:npairs+i]))\n",
    "\n",
    "    r, s = weightedavg(rho_sorted[i:npairs+i], sig_sorted[i:npairs+i])\n",
    "    rho_avg.append(r)\n",
    "    sig_avg.append(s)\n",
    "\n",
    "    i += npairs\n",
    "\n",
    "xi_mean = np.array(xi_mean)\n",
    "xi_err = np.array(xi_err)\n",
    "\n",
    "def get_HD_curve(zeta):\n",
    "\n",
    "    coszeta = np.cos(zeta*np.pi/180.)\n",
    "    xip = (1.-coszeta) / 2.\n",
    "    HD = 3.*( 1./3. + xip * ( np.log(xip) -1./6.) )\n",
    "\n",
    "    return HD/2"
   ]
  },
  {
   "cell_type": "code",
   "execution_count": 16,
   "id": "97773639-35dd-436a-9652-d6957109374f",
   "metadata": {},
   "outputs": [
    {
     "data": {
      "text/plain": [
       "(-5e-30, 5e-30)"
      ]
     },
     "execution_count": 16,
     "metadata": {},
     "output_type": "execute_result"
    },
    {
     "data": {
      "image/png": "[encoded data removed]",
      "text/plain": [
       "<Figure size 640x480 with 1 Axes>"
      ]
     },
     "metadata": {},
     "output_type": "display_data"
    }
   ],
   "source": [
    "plt.plot(xi*180/np.pi, rho, '.')\n",
    "zeta = np.linspace(0.01,180,100)\n",
    "HD = get_HD_curve(zeta+1)\n",
    "plt.plot(zeta, OS*HD, ls='--', label='Hellings-Downs', color='red', lw=1.5)\n",
    "plt.errorbar(xi_mean*180/np.pi, rho_avg, xerr=xi_err*180/np.pi, color = \"lightblue\", lw = 5)\n",
    "\n",
    "plt.ylim(-5e-30,5e-30)"
   ]
  },
  {
   "cell_type": "code",
   "execution_count": null,
   "id": "5a980613-d6ae-4111-bfa0-31eff081f221",
   "metadata": {},
   "outputs": [],
   "source": []
  }
 ],
 "metadata": {
  "kernelspec": {
   "display_name": "Python 3 (ipykernel)",
   "language": "python",
   "name": "python3"
  },
  "language_info": {
   "codemirror_mode": {
    "name": "ipython",
    "version": 3
   },
   "file_extension": ".py",
   "mimetype": "text/x-python",
   "name": "python",
   "nbconvert_exporter": "python",
   "pygments_lexer": "ipython3",
   "version": "3.10.12"
  }
 },
 "nbformat": 4,
 "nbformat_minor": 5
}
